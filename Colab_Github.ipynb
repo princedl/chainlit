{
  "nbformat": 4,
  "nbformat_minor": 0,
  "metadata": {
    "colab": {
      "provenance": [],
      "authorship_tag": "ABX9TyOWFNVPhSf1bswIf30fVLwB",
      "include_colab_link": true
    },
    "kernelspec": {
      "name": "python3",
      "display_name": "Python 3"
    },
    "language_info": {
      "name": "python"
    }
  },
  "cells": [
    {
      "cell_type": "markdown",
      "metadata": {
        "id": "view-in-github",
        "colab_type": "text"
      },
      "source": [
        "<a href=\"https://colab.research.google.com/github/princedl/chainlit/blob/main/Colab_Github.ipynb\" target=\"_parent\"><img src=\"https://colab.research.google.com/assets/colab-badge.svg\" alt=\"Open In Colab\"/></a>"
      ]
    },
    {
      "cell_type": "code",
      "execution_count": 1,
      "metadata": {
        "id": "ivadjhtmqRol"
      },
      "outputs": [],
      "source": [
        "#TEST"
      ]
    },
    {
      "cell_type": "code",
      "source": [
        "#TEST2\n"
      ],
      "metadata": {
        "id": "BnQ4BRIdrjM6"
      },
      "execution_count": 2,
      "outputs": []
    },
    {
      "cell_type": "code",
      "source": [],
      "metadata": {
        "id": "P39OuRj2r7Bw"
      },
      "execution_count": null,
      "outputs": []
    }
  ]
}